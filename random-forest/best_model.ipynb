{
 "cells": [
  {
   "cell_type": "code",
   "execution_count": 3,
   "metadata": {},
   "outputs": [],
   "source": [
    "import pandas as pd\n",
    "import numpy as np\n",
    "import seaborn as sb\n",
    "from sklearn import tree\n",
    "from sklearn.model_selection import train_test_split\n",
    "from sklearn.ensemble import RandomForestClassifier\n",
    "from sklearn import metrics\n",
    "import random\n",
    "\n",
    "import matplotlib.pyplot as plt\n",
    "\n",
    "from sklearn.externals import joblib\n",
    "import pickle"
   ]
  },
  {
   "cell_type": "code",
   "execution_count": 2,
   "metadata": {},
   "outputs": [
    {
     "name": "stdout",
     "output_type": "stream",
     "text": [
      "Requirement already satisfied: joblib in c:\\users\\jessg\\anaconda3\\lib\\site-packages (0.13.2)\n"
     ]
    }
   ],
   "source": [
    "!pip install joblib"
   ]
  },
  {
   "cell_type": "code",
   "execution_count": 4,
   "metadata": {},
   "outputs": [],
   "source": [
    "df = pd.read_csv(\n",
    "    'ceneval_mentor_v3.csv',\n",
    "    encoding='utf-8',\n",
    "    low_memory=False,\n",
    "    index_col=0\n",
    ")"
   ]
  },
  {
   "cell_type": "code",
   "execution_count": 7,
   "metadata": {},
   "outputs": [],
   "source": [
    "#get params\n",
    "def get_random_params():\n",
    "    return {\n",
    "        \"n_estimators\": random.choice(range(10, 1000, 1)),\n",
    "        \"max_features\": random.choice(range(50, 100, 5)) / 100,\n",
    "        \"max_depth\": random.choice(list(range(1, 100, 1)) + [None]),\n",
    "        \"criterion\": random.choice(['gini','entropy']),\n",
    "        \"n_jobs\": -1\n",
    "    }\n",
    "\n",
    "# Create datasets\n",
    "train = df.sample(frac=0.6)\n",
    "temp = df.drop(train.index)\n",
    "test = temp.sample(frac=0.5)\n",
    "validate = temp.drop(test.index)\n",
    "\n",
    "# Train data \n",
    "x_train = train.drop([\"DICTAMEN\"], axis=1)\n",
    "y_train = train['DICTAMEN']\n",
    "\n",
    "# Test data\n",
    "x_test = test.drop([\"DICTAMEN\"], axis=1)\n",
    "y_test = test['DICTAMEN']\n",
    "\n",
    "# Validatation data\n",
    "x_validate = validate.drop([\"DICTAMEN\"], axis=1)\n",
    "y_validate = validate['DICTAMEN']\n",
    "\n",
    "def get_accuracy(x_train, y_train, x_test, y_test, params): \n",
    "    clf=RandomForestClassifier(**params)\n",
    "    clf.fit(x_train, y_train)\n",
    "    y_pred=clf.predict(x_test)\n",
    "    return metrics.accuracy_score(y_test, y_pred), clf\n",
    "\n",
    "# Create random configurations for the model\n",
    "params = []\n",
    "best_model = None\n",
    "best_score = -1\n",
    "for i in range(1000):\n",
    "    # Create random configuration\n",
    "    param = get_random_params()\n",
    "    # Get model and accuracy\n",
    "    acc, model = get_accuracy(x_train, y_train, x_test, y_test, param)\n",
    "    param[\"accuracy\"] = acc\n",
    "    # Save metadata\n",
    "    params.append(param)\n",
    "    # Get best model\n",
    "    if acc > best_score:\n",
    "      best_score = acc\n",
    "      best_model = model\n",
    "\n",
    "# Save results as csv\n",
    "result = pd.DataFrame(params)\n",
    "result.to_csv(\"results.csv\", index=False)"
   ]
  },
  {
   "cell_type": "code",
   "execution_count": 8,
   "metadata": {},
   "outputs": [
    {
     "name": "stdout",
     "output_type": "stream",
     "text": [
      "Saving model in file: best-model-0.7149263292761051.joblib\n"
     ]
    },
    {
     "data": {
      "text/plain": [
       "['best-model-0.7149263292761051.joblib']"
      ]
     },
     "execution_count": 8,
     "metadata": {},
     "output_type": "execute_result"
    }
   ],
   "source": [
    "# Save model as file\n",
    "from joblib import dump, load\n",
    "model_filename = 'best-model-{}.joblib'.format(best_score)\n",
    "print(\"Saving model in file: {}\".format(model_filename))\n",
    "dump(best_model, model_filename) \n"
   ]
  },
  {
   "cell_type": "code",
   "execution_count": 9,
   "metadata": {},
   "outputs": [
    {
     "name": "stdout",
     "output_type": "stream",
     "text": [
      "Accuracy test: 0.7149263292761051\n",
      "Accuracy validate: 0.6951649055395454\n"
     ]
    }
   ],
   "source": [
    "clf = load(model_filename)\n",
    "y_estimate_test = clf.predict(x_test)\n",
    "y_estimate_validate = clf.predict(x_validate)\n",
    "test_accuracy =  metrics.accuracy_score(y_test, y_estimate_test)\n",
    "validate_accuracy = metrics.accuracy_score(y_validate, y_estimate_validate)\n",
    "print(\"Accuracy test:\", test_accuracy)\n",
    "print(\"Accuracy validate:\", validate_accuracy)\n"
   ]
  },
  {
   "cell_type": "markdown",
   "metadata": {},
   "source": [
    "# Matriz de Confusión"
   ]
  },
  {
   "cell_type": "code",
   "execution_count": 11,
   "metadata": {},
   "outputs": [
    {
     "data": {
      "text/plain": [
       "array([[ 945,  516],\n",
       "       [ 374, 1287]], dtype=int64)"
      ]
     },
     "execution_count": 11,
     "metadata": {},
     "output_type": "execute_result"
    }
   ],
   "source": [
    "from sklearn.metrics import confusion_matrix\n",
    "y_pred=clf.predict(x_test)\n",
    "confusion_matrix(y_test, y_pred)\n"
   ]
  },
  {
   "cell_type": "markdown",
   "metadata": {},
   "source": [
    "# Curva ROC"
   ]
  },
  {
   "cell_type": "code",
   "execution_count": 13,
   "metadata": {},
   "outputs": [
    {
     "data": {
      "image/png": "[encoded data removed]",
      "text/plain": [
       "<Figure size 432x288 with 1 Axes>"
      ]
     },
     "metadata": {
      "needs_background": "light"
     },
     "output_type": "display_data"
    }
   ],
   "source": [
    "from sklearn.metrics import roc_curve\n",
    "import matplotlib.pyplot as plt\n",
    "%matplotlib inline\n",
    "\n",
    "fpr, tpr, thresholds = roc_curve(y_test, y_pred)\n",
    "\n",
    "# create plot\n",
    "plt.plot(fpr, tpr, label='ROC curve')\n",
    "plt.plot([0, 1], [0, 1], 'k--', label='Random guess')\n",
    "_ = plt.xlabel('False Positive Rate')\n",
    "_ = plt.ylabel('True Positive Rate')\n",
    "_ = plt.title('ROC Curve')\n",
    "_ = plt.xlim([-0.02, 1])\n",
    "_ = plt.ylim([0, 1.02])\n",
    "_ = plt.legend(loc=\"lower right\")\n",
    "\n",
    "# save figure\n",
    "plt.savefig('roc_curve.png', dpi=200)"
   ]
  },
  {
   "cell_type": "code",
   "execution_count": null,
   "metadata": {},
   "outputs": [],
   "source": []
  }
 ],
 "metadata": {
  "kernelspec": {
   "display_name": "Python 3",
   "language": "python",
   "name": "python3"
  },
  "language_info": {
   "codemirror_mode": {
    "name": "ipython",
    "version": 3
   },
   "file_extension": ".py",
   "mimetype": "text/x-python",
   "name": "python",
   "nbconvert_exporter": "python",
   "pygments_lexer": "ipython3",
   "version": "3.7.3"
  }
 },
 "nbformat": 4,
 "nbformat_minor": 2
}
